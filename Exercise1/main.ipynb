import tensorflow as tf
from tensorflow import keras
import pandas as pd
import matplotlib.pyplot as plt

# Loading dataset fashion_mnist
(X_train_full, y_train_full), (X_test,
                               y_test) = tf.keras.datasets.fashion_mnist.load_data()

# Scale input features to 0-1 range
X_valid, X_train = X_train_full[:5000] / 255.0, X_train_full[:5000] / 255.0
y_valid, y_train = y_train_full[:5000], y_train_full[:5000]
X_test = X_test / 255.0

# Creating labels names
class_names = ["T-shirt/top", "Trousers", "Pullover", "Dress",
               "Coat", "Sandal", "Shirt", "Sneaker", "Bag", "Ankle boot"]

# Creating the model using the Sequential API
# Neural Network with 2 hidden layers
# Single stacl of layers connected sequentially
model = keras.Sequential([
    # Flatten --> convert each input image into a 1D array
    keras.layers.Flatten(input_shape=[28, 28]),
    # Dense with 300-100 neurons ReLU activation function
    keras.layers.Dense(300, activation="relu"),
    keras.layers.Dense(100, activation="relu"),
    # Dense with 10 neurons Softmax activation function
    keras.layers.Dense(10, activation="softmax")]
)

# Getting sumary of the model
summary = model.summary()
hidden1 = model.layers[1]
weights, biases = hidden1.get_weights()

# sparse_categorical_crossentropy --> we are having multiple labels [0 .. 9]
# sgd --> we will train the model using Stochastic Gradient Descent (BackPropagation Algorithm) : Learning rate =0.01
# measuring accuracy
model.compile(loss="sparse_categorical_crossentropy",
              optimizer="sgd",
              metrics=["accuracy"]
              )
# Training and evaluating

history = model.fit(X_train, y_train, epochs=30,
                    validation_data=(X_valid, y_valid))

print("history: ", history)
pd.DataFrame(history.history).plot(figsize=(8, 5))
plt.grid(True)
plt.gca().set_ylim(0, 1)
plt.show()

model.evaluate(X_test, y_test)

X_new = X_test[:3]
y_proba = model.preict(X_new)
y = y_proba.round(2)

print(y)