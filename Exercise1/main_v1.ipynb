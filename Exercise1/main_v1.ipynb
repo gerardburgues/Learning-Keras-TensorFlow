{
 "cells": [
  {
   "cell_type": "code",
   "execution_count": 1,
   "metadata": {},
   "outputs": [],
   "source": [
    "import tensorflow as tf\n",
    "from tensorflow import keras\n",
    "import pandas as pd\n",
    "import matplotlib.pyplot as plt"
   ]
  },
  {
   "cell_type": "code",
   "execution_count": 2,
   "metadata": {},
   "outputs": [],
   "source": [
    "# Loading dataset fashion_mnist\n",
    "(X_train_full, y_train_full), (X_test,\n",
    "                               y_test) = tf.keras.datasets.fashion_mnist.load_data()"
   ]
  },
  {
   "cell_type": "code",
   "execution_count": 3,
   "metadata": {},
   "outputs": [],
   "source": [
    "# Scale input features to 0-1 range\n",
    "X_valid, X_train = X_train_full[:5000] / 255.0, X_train_full[:5000] / 255.0\n",
    "y_valid, y_train = y_train_full[:5000], y_train_full[:5000]\n",
    "X_test = X_test / 255.0"
   ]
  },
  {
   "cell_type": "code",
   "execution_count": 4,
   "metadata": {},
   "outputs": [],
   "source": [
    "# Creating labels names\n",
    "class_names = [\"T-shirt/top\", \"Trousers\", \"Pullover\", \"Dress\",\n",
    "               \"Coat\", \"Sandal\", \"Shirt\", \"Sneaker\", \"Bag\", \"Ankle boot\"]\n"
   ]
  },
  {
   "cell_type": "code",
   "execution_count": 5,
   "metadata": {},
   "outputs": [],
   "source": [
    "# Creating the model using the Sequential API\n",
    "# Neural Network with 2 hidden layers\n",
    "# Single stacl of layers connected sequentially\n",
    "model = keras.Sequential([\n",
    "    # Flatten --> convert each input image into a 1D array\n",
    "    keras.layers.Flatten(input_shape=[28, 28]),\n",
    "    # Dense with 300-100 neurons ReLU activation function\n",
    "    keras.layers.Dense(300, activation=\"relu\"),\n",
    "    keras.layers.Dense(100, activation=\"relu\"),\n",
    "    # Dense with 10 neurons Softmax activation function\n",
    "    keras.layers.Dense(10, activation=\"softmax\")]\n",
    ")\n"
   ]
  },
  {
   "cell_type": "code",
   "execution_count": 6,
   "metadata": {},
   "outputs": [
    {
     "name": "stdout",
     "output_type": "stream",
     "text": [
      "Model: \"sequential\"\n",
      "_________________________________________________________________\n",
      "Layer (type)                 Output Shape              Param #   \n",
      "=================================================================\n",
      "flatten (Flatten)            (None, 784)               0         \n",
      "_________________________________________________________________\n",
      "dense (Dense)                (None, 300)               235500    \n",
      "_________________________________________________________________\n",
      "dense_1 (Dense)              (None, 100)               30100     \n",
      "_________________________________________________________________\n",
      "dense_2 (Dense)              (None, 10)                1010      \n",
      "=================================================================\n",
      "Total params: 266,610\n",
      "Trainable params: 266,610\n",
      "Non-trainable params: 0\n",
      "_________________________________________________________________\n"
     ]
    }
   ],
   "source": [
    "# Getting sumary of the model\n",
    "summary = model.summary()\n",
    "hidden1 = model.layers[1]\n",
    "weights, biases = hidden1.get_weights()\n"
   ]
  },
  {
   "cell_type": "code",
   "execution_count": 7,
   "metadata": {},
   "outputs": [],
   "source": [
    "\n",
    "# sparse_categorical_crossentropy --> we are having multiple labels [0 .. 9]\n",
    "# sgd --> we will train the model using Stochastic Gradient Descent (BackPropagation Algorithm) : Learning rate =0.01\n",
    "# measuring accuracy\n",
    "model.compile(loss=\"sparse_categorical_crossentropy\",\n",
    "              optimizer=\"sgd\",\n",
    "              metrics=[\"accuracy\"]\n",
    "              )"
   ]
  },
  {
   "cell_type": "code",
   "execution_count": 8,
   "metadata": {},
   "outputs": [
    {
     "name": "stdout",
     "output_type": "stream",
     "text": [
      "Epoch 1/30\n",
      "157/157 [==============================] - 1s 5ms/step - loss: 1.8058 - accuracy: 0.4569 - val_loss: 1.0442 - val_accuracy: 0.6722\n",
      "Epoch 2/30\n",
      "157/157 [==============================] - 0s 2ms/step - loss: 0.9326 - accuracy: 0.7090 - val_loss: 0.8028 - val_accuracy: 0.7326\n",
      "Epoch 3/30\n",
      "157/157 [==============================] - 0s 2ms/step - loss: 0.7447 - accuracy: 0.7479 - val_loss: 0.6752 - val_accuracy: 0.7806\n",
      "Epoch 4/30\n",
      "157/157 [==============================] - 0s 3ms/step - loss: 0.6618 - accuracy: 0.7849 - val_loss: 0.6201 - val_accuracy: 0.7862\n",
      "Epoch 5/30\n",
      "157/157 [==============================] - 0s 2ms/step - loss: 0.6030 - accuracy: 0.7972 - val_loss: 0.5975 - val_accuracy: 0.7984\n",
      "Epoch 6/30\n",
      "157/157 [==============================] - 0s 2ms/step - loss: 0.5602 - accuracy: 0.8112 - val_loss: 0.5815 - val_accuracy: 0.8030\n",
      "Epoch 7/30\n",
      "157/157 [==============================] - 0s 2ms/step - loss: 0.5391 - accuracy: 0.8211 - val_loss: 0.7028 - val_accuracy: 0.7584\n",
      "Epoch 8/30\n",
      "157/157 [==============================] - 0s 2ms/step - loss: 0.5542 - accuracy: 0.8144 - val_loss: 0.4976 - val_accuracy: 0.8354\n",
      "Epoch 9/30\n",
      "157/157 [==============================] - 0s 2ms/step - loss: 0.5139 - accuracy: 0.8249 - val_loss: 0.4884 - val_accuracy: 0.8388\n",
      "Epoch 10/30\n",
      "157/157 [==============================] - 0s 2ms/step - loss: 0.4838 - accuracy: 0.8416 - val_loss: 0.4683 - val_accuracy: 0.8450\n",
      "Epoch 11/30\n",
      "157/157 [==============================] - 0s 2ms/step - loss: 0.4916 - accuracy: 0.8416 - val_loss: 0.6150 - val_accuracy: 0.7822\n",
      "Epoch 12/30\n",
      "157/157 [==============================] - 0s 2ms/step - loss: 0.4662 - accuracy: 0.8472 - val_loss: 0.4535 - val_accuracy: 0.8518\n",
      "Epoch 13/30\n",
      "157/157 [==============================] - 0s 2ms/step - loss: 0.4397 - accuracy: 0.8507 - val_loss: 0.4785 - val_accuracy: 0.8388\n",
      "Epoch 14/30\n",
      "157/157 [==============================] - 0s 2ms/step - loss: 0.4422 - accuracy: 0.8524 - val_loss: 0.4238 - val_accuracy: 0.8624\n",
      "Epoch 15/30\n",
      "157/157 [==============================] - 0s 2ms/step - loss: 0.4522 - accuracy: 0.8478 - val_loss: 0.4713 - val_accuracy: 0.8358\n",
      "Epoch 16/30\n",
      "157/157 [==============================] - 0s 2ms/step - loss: 0.4125 - accuracy: 0.8638 - val_loss: 0.5134 - val_accuracy: 0.8196\n",
      "Epoch 17/30\n",
      "157/157 [==============================] - 0s 2ms/step - loss: 0.4153 - accuracy: 0.8665 - val_loss: 0.3943 - val_accuracy: 0.8706\n",
      "Epoch 18/30\n",
      "157/157 [==============================] - 0s 2ms/step - loss: 0.3962 - accuracy: 0.8659 - val_loss: 0.4107 - val_accuracy: 0.8618\n",
      "Epoch 19/30\n",
      "157/157 [==============================] - 0s 2ms/step - loss: 0.3900 - accuracy: 0.8719 - val_loss: 0.3768 - val_accuracy: 0.8786\n",
      "Epoch 20/30\n",
      "157/157 [==============================] - 0s 2ms/step - loss: 0.4046 - accuracy: 0.8656 - val_loss: 0.3839 - val_accuracy: 0.8744\n",
      "Epoch 21/30\n",
      "157/157 [==============================] - 0s 2ms/step - loss: 0.3745 - accuracy: 0.8713 - val_loss: 0.4112 - val_accuracy: 0.8572\n",
      "Epoch 22/30\n",
      "157/157 [==============================] - 0s 2ms/step - loss: 0.3597 - accuracy: 0.8835 - val_loss: 0.3707 - val_accuracy: 0.8768\n",
      "Epoch 23/30\n",
      "157/157 [==============================] - 0s 2ms/step - loss: 0.3548 - accuracy: 0.8765 - val_loss: 0.4511 - val_accuracy: 0.8390\n",
      "Epoch 24/30\n",
      "157/157 [==============================] - 0s 2ms/step - loss: 0.3771 - accuracy: 0.8827 - val_loss: 0.3716 - val_accuracy: 0.8722\n",
      "Epoch 25/30\n",
      "157/157 [==============================] - 0s 2ms/step - loss: 0.3757 - accuracy: 0.8730 - val_loss: 0.4631 - val_accuracy: 0.8532\n",
      "Epoch 26/30\n",
      "157/157 [==============================] - 0s 2ms/step - loss: 0.3552 - accuracy: 0.8877 - val_loss: 0.3398 - val_accuracy: 0.8886\n",
      "Epoch 27/30\n",
      "157/157 [==============================] - 0s 2ms/step - loss: 0.3306 - accuracy: 0.8939 - val_loss: 0.4226 - val_accuracy: 0.8430\n",
      "Epoch 28/30\n",
      "157/157 [==============================] - 0s 2ms/step - loss: 0.3439 - accuracy: 0.8785 - val_loss: 0.3913 - val_accuracy: 0.8572\n",
      "Epoch 29/30\n",
      "157/157 [==============================] - 0s 2ms/step - loss: 0.3454 - accuracy: 0.8773 - val_loss: 0.3927 - val_accuracy: 0.8582\n",
      "Epoch 30/30\n",
      "157/157 [==============================] - 0s 2ms/step - loss: 0.3336 - accuracy: 0.8846 - val_loss: 0.3689 - val_accuracy: 0.8750\n"
     ]
    }
   ],
   "source": [
    "# Training and evaluating\n",
    "\n",
    "history = model.fit(X_train, y_train, epochs=30,\n",
    "                    validation_data=(X_valid, y_valid))\n"
   ]
  },
  {
   "cell_type": "code",
   "execution_count": 9,
   "metadata": {},
   "outputs": [
    {
     "name": "stdout",
     "output_type": "stream",
     "text": [
      "history:  <tensorflow.python.keras.callbacks.History object at 0x7fd29b9ccb80>\n"
     ]
    },
    {
     "data": {
      "image/png": "[encoded data removed]",
      "text/plain": [
       "<Figure size 576x360 with 1 Axes>"
      ]
     },
     "metadata": {
      "needs_background": "light"
     },
     "output_type": "display_data"
    }
   ],
   "source": [
    "print(\"history: \", history)\n",
    "pd.DataFrame(history.history).plot(figsize=(8, 5))\n",
    "plt.grid(True)\n",
    "plt.gca().set_ylim(0, 1)\n",
    "plt.show()\n"
   ]
  },
  {
   "cell_type": "code",
   "execution_count": 11,
   "metadata": {},
   "outputs": [
    {
     "name": "stdout",
     "output_type": "stream",
     "text": [
      "313/313 [==============================] - 0s 588us/step - loss: 0.5463 - accuracy: 0.8095\n"
     ]
    },
    {
     "data": {
      "text/plain": [
       "array([[0.  , 0.  , 0.  , 0.  , 0.  , 0.03, 0.  , 0.18, 0.01, 0.79],\n",
       "       [0.  , 0.  , 0.91, 0.  , 0.03, 0.  , 0.05, 0.  , 0.  , 0.  ],\n",
       "       [0.  , 1.  , 0.  , 0.  , 0.  , 0.  , 0.  , 0.  , 0.  , 0.  ]],\n",
       "      dtype=float32)"
      ]
     },
     "execution_count": 11,
     "metadata": {},
     "output_type": "execute_result"
    }
   ],
   "source": [
    "\n",
    "model.evaluate(X_test, y_test)\n",
    "\n",
    "X_new = X_test[:3]\n",
    "y_proba = model.predict(X_new)\n",
    "y_proba.round(2)"
   ]
  },
  {
   "cell_type": "code",
   "execution_count": null,
   "metadata": {},
   "outputs": [],
   "source": []
  }
 ],
 "metadata": {
  "kernelspec": {
   "display_name": "Python 3",
   "language": "python",
   "name": "python3"
  },
  "language_info": {
   "codemirror_mode": {
    "name": "ipython",
    "version": 3
   },
   "file_extension": ".py",
   "mimetype": "text/x-python",
   "name": "python",
   "nbconvert_exporter": "python",
   "pygments_lexer": "ipython3",
   "version": "3.8.3"
  }
 },
 "nbformat": 4,
 "nbformat_minor": 4
}
